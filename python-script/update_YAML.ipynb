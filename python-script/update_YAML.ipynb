{
 "cells": [
  {
   "cell_type": "code",
   "execution_count": 1,
   "id": "31cc9a6a",
   "metadata": {},
   "outputs": [],
   "source": [
    "import os"
   ]
  },
  {
   "cell_type": "code",
   "execution_count": 3,
   "id": "5e602ee5",
   "metadata": {},
   "outputs": [],
   "source": [
    "import yaml"
   ]
  },
  {
   "cell_type": "code",
   "execution_count": 4,
   "id": "9020363c",
   "metadata": {},
   "outputs": [],
   "source": [
    "with open('../../caliper-workspace/networks/networkConfig.yaml') as file: \n",
    "    networkFile = yaml.load(file, Loader=yaml.FullLoader)"
   ]
  },
  {
   "cell_type": "code",
   "execution_count": 5,
   "id": "d3488d13",
   "metadata": {},
   "outputs": [],
   "source": [
    "priv_key_path_org1 = networkFile['organizations'][0]['identities']['certificates'][0]['clientPrivateKey']['path'].split('/')"
   ]
  },
  {
   "cell_type": "code",
   "execution_count": 7,
   "id": "64b8f90a",
   "metadata": {},
   "outputs": [],
   "source": [
    "priv_key_path_org1[10] = os.listdir('../test-network/organizations/peerOrganizations/org1.example.com/users/minter@org1.example.com/msp/keystore/')[0]"
   ]
  },
  {
   "cell_type": "code",
   "execution_count": 8,
   "id": "17ce816a",
   "metadata": {},
   "outputs": [],
   "source": [
    "networkFile['organizations'][0]['identities']['certificates'][0]['clientPrivateKey']['path'] = '/'.join(priv_key_path_org1)"
   ]
  },
  {
   "cell_type": "code",
   "execution_count": 9,
   "id": "0ce13a47",
   "metadata": {},
   "outputs": [],
   "source": [
    "priv_key_path_org2 = networkFile['organizations'][1]['identities']['certificates'][0]['clientPrivateKey']['path'].split('/')"
   ]
  },
  {
   "cell_type": "code",
   "execution_count": 10,
   "id": "f2e57a19",
   "metadata": {},
   "outputs": [],
   "source": [
    "priv_key_path_org2[10] = os.listdir('../test-network/organizations/peerOrganizations/org2.example.com/users/recipient@org2.example.com/msp/keystore/')[0]"
   ]
  },
  {
   "cell_type": "code",
   "execution_count": 11,
   "id": "f8a07ea0",
   "metadata": {},
   "outputs": [],
   "source": [
    "networkFile['organizations'][1]['identities']['certificates'][0]['clientPrivateKey']['path'] = '/'.join(priv_key_path_org2)"
   ]
  },
  {
   "cell_type": "code",
   "execution_count": 12,
   "id": "b83507a2",
   "metadata": {},
   "outputs": [],
   "source": [
    "with open('../../caliper-workspace/networks/networkConfig.yaml', 'w') as file: \n",
    "    yaml.dump(networkFile, file)"
   ]
  },
  {
   "cell_type": "code",
   "execution_count": null,
   "id": "c5304a03",
   "metadata": {},
   "outputs": [],
   "source": []
  }
 ],
 "metadata": {
  "kernelspec": {
   "display_name": "Python 3 (ipykernel)",
   "language": "python",
   "name": "python3"
  },
  "language_info": {
   "codemirror_mode": {
    "name": "ipython",
    "version": 3
   },
   "file_extension": ".py",
   "mimetype": "text/x-python",
   "name": "python",
   "nbconvert_exporter": "python",
   "pygments_lexer": "ipython3",
   "version": "3.8.10"
  }
 },
 "nbformat": 4,
 "nbformat_minor": 5
}
